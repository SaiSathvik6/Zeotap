{
 "cells": [
  {
   "cell_type": "code",
   "execution_count": 1,
   "id": "cd206a16-a2dd-4401-82b0-b440b303eed8",
   "metadata": {},
   "outputs": [],
   "source": [
    "import numpy as np \n",
    "import pandas as pd \n",
    "import matplotlib.pyplot as plt \n",
    "import seaborn as sns "
   ]
  },
  {
   "cell_type": "code",
   "execution_count": 23,
   "id": "507ffd5a-582e-4af5-bddc-dc5c2ec1d7ca",
   "metadata": {},
   "outputs": [],
   "source": [
    "from sklearn.preprocessing import LabelEncoder,StandardScaler\n",
    "from sklearn.metrics.pairwise import cosine_similarity"
   ]
  },
  {
   "cell_type": "code",
   "execution_count": 3,
   "id": "135e929c-7b60-4aae-8548-1bdaf7fd760a",
   "metadata": {},
   "outputs": [],
   "source": [
    "customers = pd.read_csv(\"Customers.csv\")\n",
    "transaction = pd.read_csv(\"Transactions.csv\")"
   ]
  },
  {
   "cell_type": "code",
   "execution_count": 4,
   "id": "4100f39e-2631-49fa-bf4c-4ad6e55dcd5a",
   "metadata": {},
   "outputs": [],
   "source": [
    "df = pd.merge(customers,transaction,on='CustomerID')"
   ]
  },
  {
   "cell_type": "code",
   "execution_count": 5,
   "id": "e578b591-3672-43fd-99f4-ea17d28024cf",
   "metadata": {},
   "outputs": [
    {
     "data": {
      "text/plain": [
       "(1000, 10)"
      ]
     },
     "execution_count": 5,
     "metadata": {},
     "output_type": "execute_result"
    }
   ],
   "source": [
    "df.shape"
   ]
  },
  {
   "cell_type": "code",
   "execution_count": 7,
   "id": "db476003-20ea-4484-9f70-d441401d4790",
   "metadata": {},
   "outputs": [
    {
     "name": "stdout",
     "output_type": "stream",
     "text": [
      "<class 'pandas.core.frame.DataFrame'>\n",
      "RangeIndex: 1000 entries, 0 to 999\n",
      "Data columns (total 10 columns):\n",
      " #   Column           Non-Null Count  Dtype  \n",
      "---  ------           --------------  -----  \n",
      " 0   CustomerID       1000 non-null   object \n",
      " 1   CustomerName     1000 non-null   object \n",
      " 2   Region           1000 non-null   object \n",
      " 3   SignupDate       1000 non-null   object \n",
      " 4   TransactionID    1000 non-null   object \n",
      " 5   ProductID        1000 non-null   object \n",
      " 6   TransactionDate  1000 non-null   object \n",
      " 7   Quantity         1000 non-null   int64  \n",
      " 8   TotalValue       1000 non-null   float64\n",
      " 9   Price            1000 non-null   float64\n",
      "dtypes: float64(2), int64(1), object(7)\n",
      "memory usage: 78.3+ KB\n"
     ]
    }
   ],
   "source": [
    "df.info()"
   ]
  },
  {
   "cell_type": "code",
   "execution_count": 8,
   "id": "94693bd2-6adc-4718-ae0e-418bfd334f81",
   "metadata": {},
   "outputs": [
    {
     "data": {
      "text/html": [
       "<div>\n",
       "<style scoped>\n",
       "    .dataframe tbody tr th:only-of-type {\n",
       "        vertical-align: middle;\n",
       "    }\n",
       "\n",
       "    .dataframe tbody tr th {\n",
       "        vertical-align: top;\n",
       "    }\n",
       "\n",
       "    .dataframe thead th {\n",
       "        text-align: right;\n",
       "    }\n",
       "</style>\n",
       "<table border=\"1\" class=\"dataframe\">\n",
       "  <thead>\n",
       "    <tr style=\"text-align: right;\">\n",
       "      <th></th>\n",
       "      <th>CustomerID</th>\n",
       "      <th>CustomerName</th>\n",
       "      <th>Region</th>\n",
       "      <th>SignupDate</th>\n",
       "      <th>TransactionID</th>\n",
       "      <th>ProductID</th>\n",
       "      <th>TransactionDate</th>\n",
       "      <th>Quantity</th>\n",
       "      <th>TotalValue</th>\n",
       "      <th>Price</th>\n",
       "    </tr>\n",
       "  </thead>\n",
       "  <tbody>\n",
       "    <tr>\n",
       "      <th>0</th>\n",
       "      <td>C0001</td>\n",
       "      <td>Lawrence Carroll</td>\n",
       "      <td>South America</td>\n",
       "      <td>2022-07-10</td>\n",
       "      <td>T00015</td>\n",
       "      <td>P054</td>\n",
       "      <td>2024-01-19 03:12:55</td>\n",
       "      <td>2</td>\n",
       "      <td>114.60</td>\n",
       "      <td>57.30</td>\n",
       "    </tr>\n",
       "    <tr>\n",
       "      <th>1</th>\n",
       "      <td>C0001</td>\n",
       "      <td>Lawrence Carroll</td>\n",
       "      <td>South America</td>\n",
       "      <td>2022-07-10</td>\n",
       "      <td>T00932</td>\n",
       "      <td>P022</td>\n",
       "      <td>2024-09-17 09:01:18</td>\n",
       "      <td>3</td>\n",
       "      <td>412.62</td>\n",
       "      <td>137.54</td>\n",
       "    </tr>\n",
       "    <tr>\n",
       "      <th>2</th>\n",
       "      <td>C0001</td>\n",
       "      <td>Lawrence Carroll</td>\n",
       "      <td>South America</td>\n",
       "      <td>2022-07-10</td>\n",
       "      <td>T00085</td>\n",
       "      <td>P096</td>\n",
       "      <td>2024-04-08 00:01:00</td>\n",
       "      <td>2</td>\n",
       "      <td>614.94</td>\n",
       "      <td>307.47</td>\n",
       "    </tr>\n",
       "    <tr>\n",
       "      <th>3</th>\n",
       "      <td>C0001</td>\n",
       "      <td>Lawrence Carroll</td>\n",
       "      <td>South America</td>\n",
       "      <td>2022-07-10</td>\n",
       "      <td>T00445</td>\n",
       "      <td>P083</td>\n",
       "      <td>2024-05-07 03:11:44</td>\n",
       "      <td>2</td>\n",
       "      <td>911.44</td>\n",
       "      <td>455.72</td>\n",
       "    </tr>\n",
       "    <tr>\n",
       "      <th>4</th>\n",
       "      <td>C0001</td>\n",
       "      <td>Lawrence Carroll</td>\n",
       "      <td>South America</td>\n",
       "      <td>2022-07-10</td>\n",
       "      <td>T00436</td>\n",
       "      <td>P029</td>\n",
       "      <td>2024-11-02 17:04:16</td>\n",
       "      <td>3</td>\n",
       "      <td>1300.92</td>\n",
       "      <td>433.64</td>\n",
       "    </tr>\n",
       "  </tbody>\n",
       "</table>\n",
       "</div>"
      ],
      "text/plain": [
       "  CustomerID      CustomerName         Region  SignupDate TransactionID  \\\n",
       "0      C0001  Lawrence Carroll  South America  2022-07-10        T00015   \n",
       "1      C0001  Lawrence Carroll  South America  2022-07-10        T00932   \n",
       "2      C0001  Lawrence Carroll  South America  2022-07-10        T00085   \n",
       "3      C0001  Lawrence Carroll  South America  2022-07-10        T00445   \n",
       "4      C0001  Lawrence Carroll  South America  2022-07-10        T00436   \n",
       "\n",
       "  ProductID      TransactionDate  Quantity  TotalValue   Price  \n",
       "0      P054  2024-01-19 03:12:55         2      114.60   57.30  \n",
       "1      P022  2024-09-17 09:01:18         3      412.62  137.54  \n",
       "2      P096  2024-04-08 00:01:00         2      614.94  307.47  \n",
       "3      P083  2024-05-07 03:11:44         2      911.44  455.72  \n",
       "4      P029  2024-11-02 17:04:16         3     1300.92  433.64  "
      ]
     },
     "execution_count": 8,
     "metadata": {},
     "output_type": "execute_result"
    }
   ],
   "source": [
    "df.head()"
   ]
  },
  {
   "cell_type": "code",
   "execution_count": 9,
   "id": "f7b37381-9ee7-4f73-a5ea-336f847fedfd",
   "metadata": {},
   "outputs": [],
   "source": [
    "df['SignupDate'] = pd.to_datetime(df['SignupDate'])\n",
    "df['TransactionDate'] = pd.to_datetime(df['TransactionDate'])\n",
    "df['AccountAge'] = (df['TransactionDate']-df['SignupDate']).dt.days"
   ]
  },
  {
   "cell_type": "code",
   "execution_count": 13,
   "id": "19be2387-654e-44fc-a8d3-27dbbbd4688f",
   "metadata": {},
   "outputs": [],
   "source": [
    "customer_features = df.groupby('CustomerID').agg({\n",
    "    'Region':'first', \n",
    "    'AccountAge':'max', \n",
    "    'Quantity':['sum','mean'], \n",
    "    'TotalValue': ['sum', 'mean'],  \n",
    "    'Price': ['mean'], \n",
    "    'ProductID': 'nunique'\n",
    "}).reset_index()"
   ]
  },
  {
   "cell_type": "code",
   "execution_count": 14,
   "id": "8cb6d14c-8538-4da5-8c01-23eef7655082",
   "metadata": {},
   "outputs": [],
   "source": [
    "customer_features.columns = ['CustomerID', 'Region', 'AccountAge', 'TotalQuantity', 'AvgQuantity',\n",
    "                               'TotalSpend', 'AvgSpend','AvgPrice', 'UniqueProducts']"
   ]
  },
  {
   "cell_type": "code",
   "execution_count": 19,
   "id": "2f660450-c6f4-4f4b-aefc-bd28dc5f33c6",
   "metadata": {},
   "outputs": [],
   "source": [
    "label_encoder = LabelEncoder()\n",
    "customer_features['Region'] = label_encoder.fit_transform(customer_features['Region'])"
   ]
  },
  {
   "cell_type": "code",
   "execution_count": null,
   "id": "06b50c83-735a-4ddf-832c-c61d3fcddfaa",
   "metadata": {},
   "outputs": [],
   "source": []
  },
  {
   "cell_type": "code",
   "execution_count": 21,
   "id": "202624b5-e38b-4425-8d88-76fb445e609a",
   "metadata": {},
   "outputs": [],
   "source": [
    "cols_to_scale = ['AccountAge', 'TotalQuantity', 'AvgQuantity','TotalSpend', 'AvgSpend','AvgPrice']\n",
    "scaler = StandardScaler()\n",
    "customer_features[cols_to_scale] = scaler.fit_transform(customer_features[cols_to_scale])"
   ]
  },
  {
   "cell_type": "code",
   "execution_count": null,
   "id": "ad39f3d2-ed5f-4a1b-9fa0-33c929462f26",
   "metadata": {},
   "outputs": [],
   "source": []
  },
  {
   "cell_type": "code",
   "execution_count": 24,
   "id": "ec3c1569-9543-4a53-b8e8-6f296105be02",
   "metadata": {},
   "outputs": [],
   "source": [
    "feature_matrix = customer_features.drop('CustomerID',axis=1)\n",
    "similarity_matrix = cosine_similarity(feature_matrix)"
   ]
  },
  {
   "cell_type": "code",
   "execution_count": null,
   "id": "fb749932-32ee-47e6-a8a3-e413961ba386",
   "metadata": {},
   "outputs": [],
   "source": []
  },
  {
   "cell_type": "code",
   "execution_count": 26,
   "id": "dd695e8f-cccc-44e7-aa42-f84669dedbd0",
   "metadata": {},
   "outputs": [],
   "source": [
    "def get_top_lookalikes(customer_idx, n=3):\n",
    "        customer_similarities = similarity_matrix[customer_idx]\n",
    "\n",
    "        similar_indices = np.argsort(customer_similarities)[::-1][1:n+1]\n",
    "        similar_scores = customer_similarities[similar_indices]\n",
    "        similar_ids = customer_features.iloc[similar_indices]['CustomerID'].values\n",
    "        return list(zip(similar_ids, similar_scores))"
   ]
  },
  {
   "cell_type": "code",
   "execution_count": null,
   "id": "c2c11431-a366-4892-9064-5445ad772e2a",
   "metadata": {},
   "outputs": [],
   "source": []
  },
  {
   "cell_type": "code",
   "execution_count": 28,
   "id": "e13491d6-9637-4b77-9bcf-08661d20e995",
   "metadata": {},
   "outputs": [],
   "source": [
    "lookalike_recommendations = {}\n",
    "for i in range(20):\n",
    "    customer_id = f'C{i+1:04d}'\n",
    "    customer_idx = customer_features[customer_features['CustomerID'] == customer_id].index[0]\n",
    "    lookalikes = get_top_lookalikes(customer_idx)\n",
    "    lookalike_recommendations[customer_id] = lookalikes"
   ]
  },
  {
   "cell_type": "code",
   "execution_count": 32,
   "id": "06d8d382-3c11-4c97-bcaf-15689ef76b2b",
   "metadata": {},
   "outputs": [],
   "source": [
    "output_rows = []\n",
    "for cust_id, recommendations in lookalike_recommendations.items():\n",
    "    row = {\n",
    "        'CustomerID': cust_id,\n",
    "        'Lookalikes': ', '.join([f\"{rec[0]}({rec[1]:.3f})\" for rec in recommendations])\n",
    "    }\n",
    "    output_rows.append(row)\n",
    "\n",
    "output_df = pd.DataFrame(output_rows)"
   ]
  },
  {
   "cell_type": "code",
   "execution_count": 33,
   "id": "37d11a6e-177b-4152-b896-fe3e4a5a2d0d",
   "metadata": {},
   "outputs": [
    {
     "data": {
      "text/html": [
       "<div>\n",
       "<style scoped>\n",
       "    .dataframe tbody tr th:only-of-type {\n",
       "        vertical-align: middle;\n",
       "    }\n",
       "\n",
       "    .dataframe tbody tr th {\n",
       "        vertical-align: top;\n",
       "    }\n",
       "\n",
       "    .dataframe thead th {\n",
       "        text-align: right;\n",
       "    }\n",
       "</style>\n",
       "<table border=\"1\" class=\"dataframe\">\n",
       "  <thead>\n",
       "    <tr style=\"text-align: right;\">\n",
       "      <th></th>\n",
       "      <th>CustomerID</th>\n",
       "      <th>Lookalikes</th>\n",
       "    </tr>\n",
       "  </thead>\n",
       "  <tbody>\n",
       "    <tr>\n",
       "      <th>0</th>\n",
       "      <td>C0001</td>\n",
       "      <td>C0011(0.994), C0152(0.991), C0107(0.991)</td>\n",
       "    </tr>\n",
       "    <tr>\n",
       "      <th>1</th>\n",
       "      <td>C0002</td>\n",
       "      <td>C0159(0.963), C0166(0.953), C0106(0.953)</td>\n",
       "    </tr>\n",
       "    <tr>\n",
       "      <th>2</th>\n",
       "      <td>C0003</td>\n",
       "      <td>C0190(0.960), C0091(0.954), C0039(0.949)</td>\n",
       "    </tr>\n",
       "    <tr>\n",
       "      <th>3</th>\n",
       "      <td>C0004</td>\n",
       "      <td>C0113(0.996), C0068(0.990), C0102(0.989)</td>\n",
       "    </tr>\n",
       "    <tr>\n",
       "      <th>4</th>\n",
       "      <td>C0005</td>\n",
       "      <td>C0159(0.964), C0061(0.935), C0007(0.929)</td>\n",
       "    </tr>\n",
       "    <tr>\n",
       "      <th>5</th>\n",
       "      <td>C0006</td>\n",
       "      <td>C0026(0.973), C0171(0.965), C0148(0.957)</td>\n",
       "    </tr>\n",
       "    <tr>\n",
       "      <th>6</th>\n",
       "      <td>C0007</td>\n",
       "      <td>C0074(0.948), C0005(0.929), C0135(0.923)</td>\n",
       "    </tr>\n",
       "    <tr>\n",
       "      <th>7</th>\n",
       "      <td>C0008</td>\n",
       "      <td>C0081(0.992), C0194(0.989), C0017(0.987)</td>\n",
       "    </tr>\n",
       "    <tr>\n",
       "      <th>8</th>\n",
       "      <td>C0009</td>\n",
       "      <td>C0128(0.961), C0119(0.926), C0198(0.886)</td>\n",
       "    </tr>\n",
       "    <tr>\n",
       "      <th>9</th>\n",
       "      <td>C0010</td>\n",
       "      <td>C0197(0.954), C0134(0.941), C0038(0.940)</td>\n",
       "    </tr>\n",
       "    <tr>\n",
       "      <th>10</th>\n",
       "      <td>C0011</td>\n",
       "      <td>C0107(0.995), C0001(0.994), C0133(0.986)</td>\n",
       "    </tr>\n",
       "    <tr>\n",
       "      <th>11</th>\n",
       "      <td>C0012</td>\n",
       "      <td>C0013(0.990), C0195(0.989), C0039(0.986)</td>\n",
       "    </tr>\n",
       "    <tr>\n",
       "      <th>12</th>\n",
       "      <td>C0013</td>\n",
       "      <td>C0012(0.990), C0087(0.986), C0046(0.986)</td>\n",
       "    </tr>\n",
       "    <tr>\n",
       "      <th>13</th>\n",
       "      <td>C0014</td>\n",
       "      <td>C0033(0.952), C0097(0.890), C0032(0.817)</td>\n",
       "    </tr>\n",
       "    <tr>\n",
       "      <th>14</th>\n",
       "      <td>C0015</td>\n",
       "      <td>C0130(0.910), C0042(0.898), C0085(0.877)</td>\n",
       "    </tr>\n",
       "    <tr>\n",
       "      <th>15</th>\n",
       "      <td>C0016</td>\n",
       "      <td>C0187(0.974), C0048(0.965), C0183(0.963)</td>\n",
       "    </tr>\n",
       "    <tr>\n",
       "      <th>16</th>\n",
       "      <td>C0017</td>\n",
       "      <td>C0124(0.988), C0008(0.987), C0075(0.986)</td>\n",
       "    </tr>\n",
       "    <tr>\n",
       "      <th>17</th>\n",
       "      <td>C0018</td>\n",
       "      <td>C0182(0.979), C0087(0.963), C0114(0.958)</td>\n",
       "    </tr>\n",
       "    <tr>\n",
       "      <th>18</th>\n",
       "      <td>C0019</td>\n",
       "      <td>C0088(0.985), C0199(0.984), C0147(0.980)</td>\n",
       "    </tr>\n",
       "    <tr>\n",
       "      <th>19</th>\n",
       "      <td>C0020</td>\n",
       "      <td>C0080(0.828), C0085(0.796), C0129(0.775)</td>\n",
       "    </tr>\n",
       "  </tbody>\n",
       "</table>\n",
       "</div>"
      ],
      "text/plain": [
       "   CustomerID                                Lookalikes\n",
       "0       C0001  C0011(0.994), C0152(0.991), C0107(0.991)\n",
       "1       C0002  C0159(0.963), C0166(0.953), C0106(0.953)\n",
       "2       C0003  C0190(0.960), C0091(0.954), C0039(0.949)\n",
       "3       C0004  C0113(0.996), C0068(0.990), C0102(0.989)\n",
       "4       C0005  C0159(0.964), C0061(0.935), C0007(0.929)\n",
       "5       C0006  C0026(0.973), C0171(0.965), C0148(0.957)\n",
       "6       C0007  C0074(0.948), C0005(0.929), C0135(0.923)\n",
       "7       C0008  C0081(0.992), C0194(0.989), C0017(0.987)\n",
       "8       C0009  C0128(0.961), C0119(0.926), C0198(0.886)\n",
       "9       C0010  C0197(0.954), C0134(0.941), C0038(0.940)\n",
       "10      C0011  C0107(0.995), C0001(0.994), C0133(0.986)\n",
       "11      C0012  C0013(0.990), C0195(0.989), C0039(0.986)\n",
       "12      C0013  C0012(0.990), C0087(0.986), C0046(0.986)\n",
       "13      C0014  C0033(0.952), C0097(0.890), C0032(0.817)\n",
       "14      C0015  C0130(0.910), C0042(0.898), C0085(0.877)\n",
       "15      C0016  C0187(0.974), C0048(0.965), C0183(0.963)\n",
       "16      C0017  C0124(0.988), C0008(0.987), C0075(0.986)\n",
       "17      C0018  C0182(0.979), C0087(0.963), C0114(0.958)\n",
       "18      C0019  C0088(0.985), C0199(0.984), C0147(0.980)\n",
       "19      C0020  C0080(0.828), C0085(0.796), C0129(0.775)"
      ]
     },
     "execution_count": 33,
     "metadata": {},
     "output_type": "execute_result"
    }
   ],
   "source": [
    "output_df"
   ]
  },
  {
   "cell_type": "code",
   "execution_count": 34,
   "id": "8540e080-8096-4c33-8181-6bf4c352cb13",
   "metadata": {},
   "outputs": [],
   "source": [
    "output_df.to_csv('Sai_Sathvik_Lookalike.csv',index=False)"
   ]
  },
  {
   "cell_type": "code",
   "execution_count": null,
   "id": "bc9d3d29-b474-4534-a5db-4987e6e88e36",
   "metadata": {},
   "outputs": [],
   "source": []
  }
 ],
 "metadata": {
  "kernelspec": {
   "display_name": "Python 3 (ipykernel)",
   "language": "python",
   "name": "python3"
  },
  "language_info": {
   "codemirror_mode": {
    "name": "ipython",
    "version": 3
   },
   "file_extension": ".py",
   "mimetype": "text/x-python",
   "name": "python",
   "nbconvert_exporter": "python",
   "pygments_lexer": "ipython3",
   "version": "3.12.7"
  }
 },
 "nbformat": 4,
 "nbformat_minor": 5
}
